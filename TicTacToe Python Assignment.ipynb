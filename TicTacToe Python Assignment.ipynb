{
 "cells": [
  {
   "cell_type": "markdown",
   "metadata": {},
   "source": [
    "# Milestone Project 1: Walkthrough Steps Workbook\n",
    "\n",
    "Below is a set of steps for you to follow to try to create the Tic Tac Toe Milestone Project game!"
   ]
  },
  {
   "cell_type": "markdown",
   "metadata": {},
   "source": [
    "#### Some suggested tools before you get started:\n",
    "To take input from a user:\n",
    "\n",
    "    player1 = input(\"Please pick a marker 'X' or 'O'\")\n",
    "    \n",
    "Note that input() takes in a string. If you need an integer value, use\n",
    "\n",
    "    position = int(input('Please enter a number'))\n",
    "    \n",
    "<br>To clear the screen between moves:\n",
    "\n",
    "    from IPython.display import clear_output\n",
    "    clear_output()\n",
    "    \n",
    "Note that clear_output() will only work in jupyter. To clear the screen in other IDEs, consider:\n",
    "\n",
    "    print('\\n'*100)\n",
    "    \n",
    "This scrolls the previous board up out of view. Now on to the program!"
   ]
  },
  {
   "cell_type": "markdown",
   "metadata": {},
   "source": [
    "**Step 1: Write a function that can print out a board. Set up your board as a list, where each index 1-9 corresponds with a number on a number pad, so you get a 3 by 3 board representation.**"
   ]
  },
  {
   "cell_type": "code",
   "execution_count": 1,
   "metadata": {},
   "outputs": [],
   "source": [
    "from IPython.display import clear_output\n",
    "import time\n",
    "def display_board(board):\n",
    "            \n",
    "\n",
    "    \n",
    "    print('       |       |')\n",
    "    print('   ' + board[0] + '   |   ' + board[1] + '   |   ' + board[2])\n",
    "    print('       |       |')\n",
    "    print('-------------------------')\n",
    "    print('       |       |')\n",
    "    print('   ' + board[3] + '   |   ' + board[4] + '   |   ' + board[5])\n",
    "    print('       |       |')\n",
    "    print('-------------------------')\n",
    "    print('       |       |')\n",
    "    print('   ' + board[6] + '   |   ' + board[7] + '   |   ' + board[8])\n",
    "    print('       |       |')\n",
    "    #board = []\n",
    "    pass\n",
    "#⭕❌"
   ]
  },
  {
   "cell_type": "markdown",
   "metadata": {},
   "source": [
    "**TEST Step 1:** run your function on a test version of the board list, and make adjustments as necessary"
   ]
  },
  {
   "cell_type": "code",
   "execution_count": 2,
   "metadata": {},
   "outputs": [
    {
     "name": "stdout",
     "output_type": "stream",
     "text": [
      "       |       |\n",
      "   O   |   X   |   O\n",
      "       |       |\n",
      "-------------------------\n",
      "       |       |\n",
      "   X   |   O   |   X\n",
      "       |       |\n",
      "-------------------------\n",
      "       |       |\n",
      "   O   |   X   |   O\n",
      "       |       |\n"
     ]
    }
   ],
   "source": [
    "test_board = ['O','X','O','X','O','X','O','X','O']\n",
    "display_board(test_board)"
   ]
  },
  {
   "cell_type": "markdown",
   "metadata": {},
   "source": [
    "**Step 2: Write a function that can take in a player input and assign their marker as 'X' or 'O'. Think about using *while* loops to continually ask until you get a correct answer.**"
   ]
  },
  {
   "cell_type": "code",
   "execution_count": 3,
   "metadata": {},
   "outputs": [],
   "source": [
    "def player_input():\n",
    "    is_valid_input = False\n",
    "    while not is_valid_input:\n",
    "        try:\n",
    "            input_from_player = int(input('What box would you like to mark?: '))\n",
    "            if input_from_player < 1 or input_from_player > 9:\n",
    "                raise ValueError #this will send it to the print message and back to the input option\n",
    "            else:\n",
    "                is_valid_input = True\n",
    "        except ValueError:\n",
    "            print(\"Invalid choice. The number must be in the range of 1-9.\")\n",
    "        return input_from_player"
   ]
  },
  {
   "cell_type": "markdown",
   "metadata": {},
   "source": [
    "**TEST Step 2:** run the function to make sure it returns the desired output"
   ]
  },
  {
   "cell_type": "markdown",
   "metadata": {},
   "source": [
    "**Step 3: Write a function that takes in the board list object, a marker ('X' or 'O'), and a desired position (number 1-9) and assigns it to the board.**"
   ]
  },
  {
   "cell_type": "code",
   "execution_count": 4,
   "metadata": {},
   "outputs": [],
   "source": [
    "main_board=[' ',' ',' ',' ',' ',' ',' ',' ',' ']\n",
    "marker = True\n",
    "def place_marker(marker,position):\n",
    "    if marker == True:\n",
    "        if position == 7:\n",
    "            main_board[0] = 'X'\n",
    "            return main_board\n",
    "        elif position == 8:\n",
    "            main_board[1] = 'X'\n",
    "            return main_board\n",
    "        elif position == 9:\n",
    "            main_board[2] = 'X'\n",
    "            return main_board\n",
    "        elif position == 4:\n",
    "            main_board[3] = 'X'\n",
    "            return main_board\n",
    "        elif position == 5:\n",
    "            main_board[4] = 'X'\n",
    "            return main_board\n",
    "        elif position == 6:\n",
    "            main_board[5] = 'X'\n",
    "            return main_board\n",
    "        elif position == 1:\n",
    "            main_board[6] = 'X'\n",
    "            return main_board\n",
    "        elif position == 2:\n",
    "            main_board[7] = 'X'\n",
    "            return main_board\n",
    "        elif position == 3:\n",
    "            main_board[8] = 'X'\n",
    "            return main_board\n",
    "    elif marker == False:\n",
    "        if position == 7:\n",
    "            main_board[0] = 'O'\n",
    "            return main_board\n",
    "        elif position == 8:\n",
    "            main_board[1] = 'O'\n",
    "            return main_board\n",
    "        elif position == 9:\n",
    "            main_board[2] = 'O'\n",
    "            return main_board\n",
    "        elif position == 4:\n",
    "            main_board[3] = 'O'\n",
    "            return main_board\n",
    "        elif position == 5:\n",
    "            main_board[4] = 'O'\n",
    "            return main_board\n",
    "        elif position == 6:\n",
    "            main_board[5] = 'O'\n",
    "            return main_board\n",
    "        elif position == 1:\n",
    "            main_board[6] = 'O'\n",
    "            return main_board\n",
    "        elif position == 2:\n",
    "            main_board[7] = 'O'\n",
    "            return main_board\n",
    "        elif position == 3:\n",
    "            main_board[8] = 'O'\n",
    "            return main_board"
   ]
  },
  {
   "cell_type": "markdown",
   "metadata": {},
   "source": [
    "**TEST Step 3:** run the place marker function using test parameters and display the modified board"
   ]
  },
  {
   "cell_type": "code",
   "execution_count": 5,
   "metadata": {},
   "outputs": [
    {
     "name": "stdout",
     "output_type": "stream",
     "text": [
      "       |       |\n",
      "   X   |       |    \n",
      "       |       |\n",
      "-------------------------\n",
      "       |       |\n",
      "       |   O   |    \n",
      "       |       |\n",
      "-------------------------\n",
      "       |       |\n",
      "       |       |   O\n",
      "       |       |\n"
     ]
    }
   ],
   "source": [
    "place_marker(False,5)\n",
    "display_board(main_board)\n",
    "clear_output()\n",
    "place_marker(True,7)\n",
    "place_marker(False,3)\n",
    "display_board(main_board)"
   ]
  },
  {
   "cell_type": "markdown",
   "metadata": {},
   "source": [
    "**Step 4: Write a function that takes in a board and a mark (X or O) and then checks to see if that mark has won. **"
   ]
  },
  {
   "cell_type": "code",
   "execution_count": 6,
   "metadata": {},
   "outputs": [],
   "source": [
    "winx=False\n",
    "wino=False\n",
    "def win_check(board):\n",
    "    global wino\n",
    "    global winx\n",
    "    if board[0] == board[1] == board[2] != ' ':\n",
    "        if board[0] == 'X':\n",
    "            winx = True\n",
    "        elif board[0] == 'O':\n",
    "            wino = True\n",
    "    if board[3] == board[4] == board[5] != ' ':\n",
    "        if board[3] == 'X':\n",
    "            winx = True\n",
    "        elif board[3] == 'O':\n",
    "            wino = True\n",
    "    if board[6] == board[7] == board[8] != ' ':\n",
    "        if board[6] == 'X':\n",
    "            winx = True\n",
    "        elif board[6] == 'O':\n",
    "            wino = True\n",
    "    if board[0] == board[3] == board[6] != ' ':\n",
    "        if board[0] == 'X':\n",
    "            winx = True\n",
    "        elif board[0] == 'O':\n",
    "            wino = True\n",
    "    if board[1] == board[4] == board[7] != ' ':\n",
    "        if board[1] == 'X':\n",
    "            winx = True\n",
    "        elif board[1] == 'O':\n",
    "            wino = True\n",
    "    if board[2] == board[5] == board[8] != ' ':\n",
    "        if board[2] == 'X':\n",
    "            winx = True\n",
    "        elif board[2] == 'O':\n",
    "            wino = True\n",
    "    if board[0] == board[4] == board[8] != ' ':\n",
    "        if board[0] == 'X':\n",
    "            winx = True\n",
    "        elif board[0] == 'O':\n",
    "            wino = True\n",
    "    if board[2] == board[4] == board[6] != ' ':\n",
    "        if board[2] == 'X':\n",
    "            winx = True\n",
    "        elif board[2] == 'O':\n",
    "            wino = True\n",
    "    return winx, wino\n",
    "    pass"
   ]
  },
  {
   "cell_type": "markdown",
   "metadata": {},
   "source": [
    "**TEST Step 4:** run the win_check function against our test_board - it should return True"
   ]
  },
  {
   "cell_type": "code",
   "execution_count": 7,
   "metadata": {},
   "outputs": [
    {
     "data": {
      "text/plain": [
       "False"
      ]
     },
     "execution_count": 7,
     "metadata": {},
     "output_type": "execute_result"
    }
   ],
   "source": [
    "win_check(main_board)\n",
    "winx"
   ]
  },
  {
   "cell_type": "markdown",
   "metadata": {},
   "source": [
    "**Step 5: Write a function that uses the random module to randomly decide which player goes first. You may want to lookup random.randint() Return a string of which player went first.**"
   ]
  },
  {
   "cell_type": "code",
   "execution_count": 8,
   "metadata": {},
   "outputs": [],
   "source": [
    "import random\n",
    "\n",
    "def choose_first():\n",
    "    global marker\n",
    "    if random.randint(1,2) == 0:\n",
    "        print('Player ❌ goes first.')\n",
    "        marker = True\n",
    "    else:\n",
    "        print('Player ⭕ goes first.')\n",
    "        marker = False\n",
    "    pass"
   ]
  },
  {
   "cell_type": "markdown",
   "metadata": {},
   "source": [
    "**Step 6: Write a function that returns a boolean indicating whether a space on the board is freely available.**"
   ]
  },
  {
   "cell_type": "code",
   "execution_count": 9,
   "metadata": {},
   "outputs": [],
   "source": [
    "def space_check(board, position):\n",
    "    if board[position] == ' ':\n",
    "        return True\n",
    "    else:\n",
    "        return False\n",
    "    pass"
   ]
  },
  {
   "cell_type": "markdown",
   "metadata": {},
   "source": [
    "**Step 7: Write a function that checks if the board is full and returns a boolean value. True if full, False otherwise.**"
   ]
  },
  {
   "cell_type": "code",
   "execution_count": 10,
   "metadata": {},
   "outputs": [
    {
     "data": {
      "text/plain": [
       "False"
      ]
     },
     "execution_count": 10,
     "metadata": {},
     "output_type": "execute_result"
    }
   ],
   "source": [
    "def full_board_check(board):\n",
    "    if ' ' not in board:\n",
    "        return True\n",
    "    else:\n",
    "        return False\n",
    "    pass\n",
    "full_board_check(main_board)"
   ]
  },
  {
   "cell_type": "markdown",
   "metadata": {},
   "source": [
    "**Step 8: Write a function that asks for a player's next position (as a number 1-9) and then uses the function from step 6 to check if it's a free position. If it is, then return the position for later use.**"
   ]
  },
  {
   "cell_type": "code",
   "execution_count": 11,
   "metadata": {},
   "outputs": [],
   "source": [
    "def player_choice(board):\n",
    "    pos=player_input()\n",
    "    next_pos = None\n",
    "    if pos == 1:\n",
    "        next_pos = 6\n",
    "    elif pos == 2:\n",
    "        next_pos = 7\n",
    "    elif pos == 3:\n",
    "        next_pos = 8\n",
    "    elif pos == 4:\n",
    "        next_pos = 3\n",
    "    elif pos == 5:\n",
    "        next_pos = 4\n",
    "    elif pos == 6:\n",
    "        next_pos = 5\n",
    "    elif pos == 7:\n",
    "        next_pos = 0\n",
    "    elif pos == 8:\n",
    "        next_pos = 1\n",
    "    elif pos == 9:\n",
    "        next_pos = 2\n",
    "    if space_check(board,next_pos):\n",
    "        return pos\n",
    "    else:\n",
    "        print('That space is already taken!')\n",
    "#player_choice(main_board)"
   ]
  },
  {
   "cell_type": "markdown",
   "metadata": {},
   "source": [
    "**Step 9: Write a function that asks the player if they want to play again and returns a boolean True if they do want to play again.**"
   ]
  },
  {
   "cell_type": "code",
   "execution_count": 12,
   "metadata": {},
   "outputs": [],
   "source": [
    "def replay():\n",
    "    again = str(input(\"Do you want to play again?:\"))\n",
    "    if again.lower() == 'yes':\n",
    "        print('Reloading Game!')\n",
    "        return True\n",
    "    else:\n",
    "        print('Stopping')\n",
    "        return False\n",
    "        \n",
    "    pass\n",
    "#replay()"
   ]
  },
  {
   "cell_type": "markdown",
   "metadata": {
    "collapsed": true
   },
   "source": [
    "**Step 10: Here comes the hard part! Use while loops and the functions you've made to run the game!**"
   ]
  },
  {
   "cell_type": "code",
   "execution_count": null,
   "metadata": {
    "scrolled": true
   },
   "outputs": [
    {
     "name": "stdout",
     "output_type": "stream",
     "text": [
      "       |       |\n",
      "       |       |    \n",
      "       |       |\n",
      "-------------------------\n",
      "       |       |\n",
      "       |       |    \n",
      "       |       |\n",
      "-------------------------\n",
      "       |       |\n",
      "       |       |    \n",
      "       |       |\n"
     ]
    }
   ],
   "source": [
    "\n",
    "def main_game():\n",
    "    while True:\n",
    "        started = False\n",
    "        played_once= False\n",
    "        if not started or replay:\n",
    "            main_board=[' ',' ',' ',' ',' ',' ',' ',' ',' ']\n",
    "            winx=False\n",
    "            wino=False\n",
    "            replay=False\n",
    "            choose_first()\n",
    "            played_once=True\n",
    "            started=True\n",
    "        while started:\n",
    "            win_check(main_board)\n",
    "            if not winx and not wino:\n",
    "                display_board(main_board)\n",
    "                if not full_board_check(main_board):\n",
    "                    global marker\n",
    "                    place_marker(marker,player_choice(main_board))\n",
    "                    if marker == True:\n",
    "                        marker = False\n",
    "                    else:\n",
    "                        marker = True\n",
    "                    clear_output()\n",
    "            elif winx: \n",
    "                display_board(main_board)\n",
    "                print('Player ❌ has won!')\n",
    "                time.sleep(3)\n",
    "                started=False\n",
    "\n",
    "            elif wino:\n",
    "                display_board(main_board)\n",
    "                print('Player ⭕ has won!')\n",
    "                time.sleep(3)\n",
    "                started=False\n",
    "\n",
    "while replay():\n",
    "    print('Welcome to Tic Tac Toe!')\n",
    "    main_game()\n",
    "            "
   ]
  },
  {
   "cell_type": "markdown",
   "metadata": {
    "collapsed": true
   },
   "source": [
    "## Good Job!"
   ]
  },
  {
   "cell_type": "code",
   "execution_count": null,
   "metadata": {},
   "outputs": [],
   "source": []
  }
 ],
 "metadata": {
  "kernelspec": {
   "display_name": "Python 3",
   "language": "python",
   "name": "python3"
  },
  "language_info": {
   "codemirror_mode": {
    "name": "ipython",
    "version": 3
   },
   "file_extension": ".py",
   "mimetype": "text/x-python",
   "name": "python",
   "nbconvert_exporter": "python",
   "pygments_lexer": "ipython3",
   "version": "3.6.5"
  }
 },
 "nbformat": 4,
 "nbformat_minor": 1
}
