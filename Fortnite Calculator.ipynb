{
 "cells": [
  {
   "cell_type": "raw",
   "metadata": {},
   "source": [
    "<script>\n",
    "  function code_toggle() {\n",
    "    if (code_shown){\n",
    "      $('div.input').hide('500');\n",
    "      $('#toggleButton').val('Show Code')\n",
    "    } else {\n",
    "      $('div.input').show('500');\n",
    "      $('#toggleButton').val('Hide Code')\n",
    "    }\n",
    "    code_shown = !code_shown\n",
    "  }\n",
    "\n",
    "  $( document ).ready(function(){\n",
    "    code_shown=false;\n",
    "    $('div.input').hide()\n",
    "  });\n",
    "</script>\n",
    "<form action=\"javascript:code_toggle()\"><input type=\"submit\" id=\"toggleButton\" value=\"Show Code\"></form>"
   ]
  },
  {
   "cell_type": "code",
   "execution_count": 1,
   "metadata": {},
   "outputs": [
    {
     "name": "stdout",
     "output_type": "stream",
     "text": [
      "What tier are you currently at?:60\n"
     ]
    }
   ],
   "source": [
    "current_tier = input('What tier are you currently at?: ')\n",
    "current_tier = int(current_tier)\n",
    "total_tiers = 100\n",
    "num_challange_weeks = 10\n",
    "stars_per_week = 50\n",
    "stars_collected = current_tier * 10\n",
    "list1= []"
   ]
  },
  {
   "cell_type": "code",
   "execution_count": 2,
   "metadata": {},
   "outputs": [],
   "source": [
    "import datetime\n",
    "now = datetime.datetime.now()\n",
    "time_now = [now.year, now.month, now.day]\n",
    "end_date = [2018,9,25]\n",
    "if time_now[1] == 8:\n",
    "    days_left = 24 + (31-time_now[2])\n",
    "elif time_now[1] == 9:\n",
    "    days_left = 23 - time_now[2]"
   ]
  },
  {
   "cell_type": "code",
   "execution_count": 3,
   "metadata": {},
   "outputs": [],
   "source": [
    "y = 16\n",
    "x = 0\n",
    "if now.month == 8 and now.day >= y:\n",
    "    x = 0\n",
    "elif now.month == 8 and now.day >= (y+7):\n",
    "    x = 1\n",
    "elif now.month == 8 and now.day >= (y+14):\n",
    "    x = 2\n",
    "elif now.month == 9 and now.day >= 6:\n",
    "    x = 3\n",
    "elif now.month == 9 and now.day >= 13:\n",
    "    x = 4\n",
    "weeks_passed = 6 + (x)\n",
    "tiers_left = total_tiers - current_tier\n",
    "stars_left = tiers_left * 10\n",
    "stars_from_challange = (num_challange_weeks - weeks_passed) * 50\n",
    "stars_from_daily = days_left * 5\n",
    "\n",
    "if stars_from_challange not in list1:\n",
    "    list1.append(stars_from_challange)\n",
    "elif list1[0] != stars_from_challange:\n",
    "    list1[0] = stars_from_challange\n",
    "    \n",
    "if stars_collected not in list1:\n",
    "    list1.append(stars_collected)\n",
    "elif list1[1] != stars_collected:\n",
    "    list1[1] = stars_collected\n",
    "    \n",
    "stars_after_challange = stars_left - stars_from_challange\n",
    "days_left_2 = 0\n",
    "stars_from_daily_2 = 5\n",
    "\n",
    "if stars_after_challange < stars_from_daily:\n",
    "    days_left_2 = stars_after_challange/5\n",
    "    stars_from_daily_2 = days_left_2 * 5\n",
    "else:\n",
    "    days_left_2 = days_left\n",
    "    stars_from_daily_2 = stars_from_daily\n",
    "    \n",
    "if days_left_2 not in list1:\n",
    "    list1.append(int(days_left_2))\n",
    "elif list1[2] != int(days_left_2):\n",
    "    list1[2] = int(days_left_2)\n",
    "    \n",
    "if stars_from_daily_2 != list1[-1]:\n",
    "    list1.append(int(stars_from_daily_2))\n",
    "elif list1[3] != int(stars_from_daily_2):\n",
    "    list1[3] = int(stars_from_daily_2)\n",
    "\n",
    "level_up_stars = stars_left - stars_from_challange - stars_from_daily_2\n"
   ]
  },
  {
   "cell_type": "code",
   "execution_count": 4,
   "metadata": {},
   "outputs": [
    {
     "name": "stdout",
     "output_type": "stream",
     "text": [
      "You have collected 600 stars so far. \n",
      "You still need to collect about 400 stars. \n",
      "You can get 200 of these stars from Battle Pass Weekly Challanges, assuming you have completed all the past weekly challanges.\n",
      "Then you will have to get the rest 200.\n",
      "To get the rest, you will need to do 37 daily challanges to recieve 185 battle stars.\n",
      "The rest 15 can be collected from levelling up. \n"
     ]
    }
   ],
   "source": [
    "print(\"You have collected {l[1]} stars so far. \\nYou still need to collect about {sl} stars. \\nYou can get {l[0]} of these stars from Battle Pass Weekly Challanges, assuming you have completed all the past weekly challanges.\\nThen you will have to get the rest {afch}.\\nTo get the rest, you will need to do {l[2]} daily challanges to recieve {l[3]} battle stars.\\nThe rest {lups} can be collected from levelling up. \".format(l=list1,sl=stars_left,lups=int(level_up_stars),afch=int(stars_after_challange)))"
   ]
  },
  {
   "cell_type": "code",
   "execution_count": null,
   "metadata": {},
   "outputs": [],
   "source": []
  }
 ],
 "metadata": {
  "kernelspec": {
   "display_name": "Python 3",
   "language": "python",
   "name": "python3"
  },
  "language_info": {
   "codemirror_mode": {
    "name": "ipython",
    "version": 3
   },
   "file_extension": ".py",
   "mimetype": "text/x-python",
   "name": "python",
   "nbconvert_exporter": "python",
   "pygments_lexer": "ipython3",
   "version": "3.6.5"
  }
 },
 "nbformat": 4,
 "nbformat_minor": 2
}
